{
  "nbformat": 4,
  "nbformat_minor": 0,
  "metadata": {
    "colab": {
      "name": "em_assignment.ipynb",
      "provenance": [],
      "collapsed_sections": [],
      "include_colab_link": true
    },
    "kernelspec": {
      "display_name": "Python 3",
      "language": "python",
      "name": "python3"
    }
  },
  "cells": [
    {
      "cell_type": "markdown",
      "metadata": {
        "id": "view-in-github",
        "colab_type": "text"
      },
      "source": [
        "<a href=\"https://colab.research.google.com/github/steveyu323/CAGI-EVAL/blob/master/week2/em_assignment.ipynb\" target=\"_parent\"><img src=\"https://colab.research.google.com/assets/colab-badge.svg\" alt=\"Open In Colab\"/></a>"
      ]
    },
    {
      "cell_type": "markdown",
      "metadata": {
        "id": "jlo4V6MRBEDQ"
      },
      "source": [
        "# First things first\n",
        "Click **File -> Save a copy in Drive** and click **Open in new tab** in the pop-up window to save your progress in Google Drive."
      ]
    },
    {
      "cell_type": "markdown",
      "metadata": {
        "id": "WMlNHfVxBEDT"
      },
      "source": [
        "# Expectation-maximization algorithm"
      ]
    },
    {
      "cell_type": "markdown",
      "metadata": {
        "id": "icS4MsxIBEDU"
      },
      "source": [
        "In this assignment, we will derive and implement formulas for Gaussian Mixture Model — one of the most commonly used methods for performing soft clustering of the data. "
      ]
    },
    {
      "cell_type": "markdown",
      "metadata": {
        "id": "jequoJfSBEDV"
      },
      "source": [
        "### Setup\n",
        "Loading auxiliary files and importing the necessary libraries."
      ]
    },
    {
      "cell_type": "code",
      "metadata": {
        "id": "ZqZo-y9UBEDX",
        "colab": {
          "base_uri": "https://localhost:8080/"
        },
        "outputId": "10280266-06fa-4d83-b695-9afd48f6af7f"
      },
      "source": [
        "try:\n",
        "    import google.colab\n",
        "    IN_COLAB = True\n",
        "except:\n",
        "    IN_COLAB = False\n",
        "if IN_COLAB:\n",
        "    print(\"Downloading Colab files\")\n",
        "    ! shred -u setup_google_colab.py\n",
        "    ! wget https://raw.githubusercontent.com/hse-aml/bayesian-methods-for-ml/master/setup_google_colab.py -O setup_google_colab.py\n",
        "    import setup_google_colab\n",
        "    setup_google_colab.load_data_week2()"
      ],
      "execution_count": 1,
      "outputs": [
        {
          "output_type": "stream",
          "name": "stdout",
          "text": [
            "Downloading Colab files\n",
            "shred: setup_google_colab.py: failed to open for writing: No such file or directory\n",
            "--2021-11-15 05:59:26--  https://raw.githubusercontent.com/hse-aml/bayesian-methods-for-ml/master/setup_google_colab.py\n",
            "Resolving raw.githubusercontent.com (raw.githubusercontent.com)... 185.199.108.133, 185.199.109.133, 185.199.110.133, ...\n",
            "Connecting to raw.githubusercontent.com (raw.githubusercontent.com)|185.199.108.133|:443... connected.\n",
            "HTTP request sent, awaiting response... 200 OK\n",
            "Length: 1232 (1.2K) [text/plain]\n",
            "Saving to: ‘setup_google_colab.py’\n",
            "\n",
            "setup_google_colab. 100%[===================>]   1.20K  --.-KB/s    in 0s      \n",
            "\n",
            "2021-11-15 05:59:26 (55.5 MB/s) - ‘setup_google_colab.py’ saved [1232/1232]\n",
            "\n",
            "https://raw.githubusercontent.com/hse-aml/bayesian-methods-for-ml/master/week2/w2_grader.py w2_grader.py\n",
            "https://raw.githubusercontent.com/hse-aml/bayesian-methods-for-ml/master/week2/samples.npz samples.npz\n"
          ]
        }
      ]
    },
    {
      "cell_type": "code",
      "metadata": {
        "id": "urylZcbeBEDc"
      },
      "source": [
        "import numpy as np\n",
        "from numpy.linalg import slogdet, det, solve\n",
        "import matplotlib.pyplot as plt\n",
        "import time\n",
        "from sklearn.datasets import load_digits\n",
        "from w2_grader import EMGrader\n",
        "%matplotlib inline"
      ],
      "execution_count": 2,
      "outputs": []
    },
    {
      "cell_type": "markdown",
      "metadata": {
        "id": "tP8l9frZBEDf"
      },
      "source": [
        "### Grading\n",
        "We will create a grader instance below and use it to collect your answers. Note that these outputs will be stored locally inside grader and will be uploaded to the platform only after running submitting function in the last part of this assignment. If you want to make a partial submission, you can run that cell anytime you want."
      ]
    },
    {
      "cell_type": "code",
      "metadata": {
        "id": "7Gvy3EOvBEDg"
      },
      "source": [
        "grader = EMGrader()"
      ],
      "execution_count": 3,
      "outputs": []
    },
    {
      "cell_type": "markdown",
      "metadata": {
        "id": "dL3A2sntBEDj"
      },
      "source": [
        "## Implementing EM for GMM"
      ]
    },
    {
      "cell_type": "markdown",
      "metadata": {
        "id": "0xPS_VdpBEDk"
      },
      "source": [
        "For debugging, we will use samples from a Gaussian mixture model with unknown mean, variance, and priors. We also added initial values of parameters for grading purposes."
      ]
    },
    {
      "cell_type": "code",
      "metadata": {
        "id": "g9_aOn94BEDl",
        "colab": {
          "base_uri": "https://localhost:8080/",
          "height": 265
        },
        "outputId": "1db47978-9a35-4d02-bdd7-320d1a0db52d"
      },
      "source": [
        "samples = np.load('samples.npz')\n",
        "X = samples['data']\n",
        "pi0 = samples['pi0']\n",
        "mu0 = samples['mu0']\n",
        "sigma0 = samples['sigma0']\n",
        "plt.scatter(X[:, 0], X[:, 1], c='grey', s=30)\n",
        "plt.axis('equal')\n",
        "plt.show()"
      ],
      "execution_count": 4,
      "outputs": [
        {
          "output_type": "display_data",
          "data": {
            "image/png": "[encoded data removed]",
            "text/plain": [
              "<Figure size 432x288 with 1 Axes>"
            ]
          },
          "metadata": {
            "needs_background": "light"
          }
        }
      ]
    },
    {
      "cell_type": "markdown",
      "metadata": {
        "id": "AmgeHTCfBEDp"
      },
      "source": [
        "### Reminder"
      ]
    },
    {
      "cell_type": "markdown",
      "metadata": {
        "id": "RgAwWi1nBEDq"
      },
      "source": [
        "Remember, that EM algorithm is a coordinate descent optimization of variational lower bound $\\mathcal{L}(\\theta, q) = \\int q(T) \\log\\frac{p(X, T|\\theta)}{q(T)}dT\\to \\max$.\n",
        "\n",
        "<b>E-step</b>:<br>\n",
        "$\\mathcal{L}(\\theta, q) \\to \\max\\limits_{q} \\Leftrightarrow \\mathcal{KL} [q(T) \\,\\|\\, p(T|X, \\theta)] \\to \\min \\limits_{q\\in Q} \\Rightarrow q(T) = p(T|X, \\theta)$<br>\n",
        "<b>M-step</b>:<br> \n",
        "$\\mathcal{L}(\\theta, q) \\to \\max\\limits_{\\theta} \\Leftrightarrow \\mathbb{E}_{q(T)}\\log p(X,T | \\theta) \\to \\max\\limits_{\\theta}$\n",
        "\n",
        "For GMM, $\\theta$ is a set of parameters that consists of mean vectors $\\mu_c$, covariance matrices $\\Sigma_c$ and priors $\\pi_c$ for each component.\n",
        "\n",
        "Latent variables $T$ are indices of components to which each data point is assigned, i.e. $t_i$  is the cluster index for object $x_i$.\n",
        "\n",
        "The joint distribution can be written as follows: $\\log p(T, X \\mid \\theta) =  \\sum\\limits_{i=1}^N \\log p(t_i, x_i \\mid \\theta) = \\sum\\limits_{i=1}^N \\sum\\limits_{c=1}^C q(t_i = c) \\log \\left (\\pi_c \\, f_{\\!\\mathcal{N}}(x_i \\mid \\mu_c, \\Sigma_c)\\right)$,\n",
        "where $f_{\\!\\mathcal{N}}(x \\mid \\mu_c, \\Sigma_c) = \\frac{1}{\\sqrt{(2\\pi)^n|\\boldsymbol\\Sigma_c|}}\n",
        "\\exp\\left(-\\frac{1}{2}({x}-{\\mu_c})^T{\\boldsymbol\\Sigma_c}^{-1}({x}-{\\mu_c})\n",
        "\\right)$ is the probability density function (pdf) of the normal distribution $\\mathcal{N}(x_i \\mid \\mu_c, \\Sigma_c)$."
      ]
    },
    {
      "cell_type": "markdown",
      "metadata": {
        "id": "ELmi1nAtBEDr"
      },
      "source": [
        "### E-step\n",
        "In this step we need to estimate the posterior distribution over the latent variables with fixed values of parameters: $q_i(t_i) = p(t_i \\mid x_i, \\theta)$. We assume that $t_i$ equals to the cluster index of the true component of the $x_i$ object. To do so we need to compute $\\gamma_{ic} = p(t_i = c \\mid x_i, \\theta)$. Note that $\\sum\\limits_{c=1}^C\\gamma_{ic}=1$.\n"
      ]
    },
    {
      "cell_type": "markdown",
      "metadata": {
        "id": "53FR1RJ9BEDs"
      },
      "source": [
        "<b>Important trick 1:</b> It is important to avoid numerical errors. At some point you will have to compute the formula of the following form: $\\frac{e^{y_i}}{\\sum_j e^{y_j}}$, which is called _softmax_. When you compute exponents of large numbers, some numbers may become infinity. You can avoid this by dividing numerator and denominator by $e^{\\max(y)}$: $\\frac{e^{y_i-\\max(y)}}{\\sum_j e^{y_j - \\max(y)}}$. After this transformation maximum value in the denominator will be equal to one. All other terms will contribute smaller values. So, to compute desired formula you first subtract maximum value from each component in vector $\\mathbf{y}$ and then compute everything else as before.\n",
        "\n",
        "<b>Important trick 2:</b> You will probably need to compute formula of the form $A^{-1}x$ at some point. You would normally inverse $A$ and then multiply it by $x$. A bit faster and more numerically accurate way to do this is to directly solve equation $Ay = x$ by using a special function. Its solution is $y=A^{-1}x$, but the equation $Ay = x$ can be solved by methods which do not explicitely invert the matrix. You can use ```np.linalg.solve``` for this.\n",
        "\n",
        "<b>Other usefull functions: </b> <a href=\"https://docs.scipy.org/doc/numpy/reference/generated/numpy.linalg.slogdet.html\">```slogdet```</a> and <a href=\"https://docs.scipy.org/doc/numpy/reference/generated/numpy.linalg.det.html#numpy.linalg.det\">```det```</a>"
      ]
    },
    {
      "cell_type": "markdown",
      "metadata": {
        "id": "KL87Q8-TBEDu"
      },
      "source": [
        "<b>Task 1:</b> Implement E-step for GMM using template below."
      ]
    },
    {
      "cell_type": "code",
      "metadata": {
        "id": "wCUCaD28BEDw"
      },
      "source": [
        "def E_step(X, pi, mu, sigma):\n",
        "    \"\"\"\n",
        "    Performs E-step on GMM model\n",
        "    Each input is numpy array:\n",
        "    X: (N x d), data points\n",
        "    pi: (C), mixture component weights \n",
        "    mu: (C x d), mixture component means\n",
        "    sigma: (C x d x d), mixture component covariance matrices\n",
        "    \n",
        "    Returns:\n",
        "    gamma: (N x C), probabilities of clusters for objects\n",
        "    \"\"\"\n",
        "    N = X.shape[0] # number of objects\n",
        "    C = pi.shape[0] # number of clusters\n",
        "    d = mu.shape[1] # dimension of each object\n",
        "    gamma = np.zeros((N, C)) # distribution q(T)\n",
        "\n",
        "    ### YOUR CODE HERE\n",
        "    from scipy.stats import multivariate_normal\n",
        "    for i in range(N):\n",
        "      xi = X[i,:]\n",
        "      prob_i = np.zeros((N, C))\n",
        "      for j in range(C):\n",
        "        pi_c = pi[j]\n",
        "        mu_c = mu[j,:]\n",
        "        sigma_c = sigma[j,:,:]\n",
        "        prob_ci = pi_c * multivariate_normal.pdf(xi, mean=mu_c, cov=sigma_c)\n",
        "        gamma[i,j] = prob_ci\n",
        "    sum_of_rows = gamma.sum(axis=1)\n",
        "    gamma = gamma / sum_of_rows[:, np.newaxis]\n",
        "\n",
        "    return gamma"
      ],
      "execution_count": 5,
      "outputs": []
    },
    {
      "cell_type": "code",
      "metadata": {
        "id": "xlhktOlMBED1",
        "colab": {
          "base_uri": "https://localhost:8080/"
        },
        "outputId": "d824f4ab-3179-4a30-c4f2-d6fc991121d3"
      },
      "source": [
        "gamma = E_step(X, pi0, mu0, sigma0)\n",
        "grader.submit_e_step(gamma)"
      ],
      "execution_count": 6,
      "outputs": [
        {
          "output_type": "stream",
          "name": "stdout",
          "text": [
            "Current answer for task Task 1 (E-step) is: 0.5337178741081263\n"
          ]
        }
      ]
    },
    {
      "cell_type": "markdown",
      "metadata": {
        "id": "fERrQWSCBED5"
      },
      "source": [
        "### M-step\n",
        "\n",
        "In M-step we need to maximize $\\mathbb{E}_{q(T)}\\log p(X,T | \\theta)$ with respect to $\\theta$. In our model this means that we need to find optimal values of $\\pi$, $\\mu$, $\\Sigma$. To do so, you need to compute the derivatives and \n",
        "set them to zero. You should start by deriving formulas for $\\mu$ as it is the easiest part. Then move on to $\\Sigma$. Here it is crucial to optimize function w.r.t. to $\\Lambda = \\Sigma^{-1}$ and then inverse obtained result. Finaly, to compute $\\pi$, you will need <a href=\"https://www3.nd.edu/~jstiver/FIN360/Constrained%20Optimization.pdf\">Lagrange Multipliers technique</a> to satisfy constraint $\\sum\\limits_{i=1}^{n}\\pi_i = 1$.\n",
        "\n",
        "<br>\n",
        "<b>Important note:</b> You will need to compute derivatives of scalars with respect to matrices. To refresh this technique from previous courses, see <a href=\"https://en.wikipedia.org/wiki/Matrix_calculus\"> wiki article</a> about it . Main formulas of matrix derivatives can be found in <a href=\"http://www2.imm.dtu.dk/pubdb/views/edoc_download.php/3274/pdf/imm3274.pdf\">Chapter 2 of The Matrix Cookbook</a>. For example, there you may find that $\\frac{\\partial}{\\partial A}\\log |A| = A^{-T}$.\n"
      ]
    },
    {
      "cell_type": "markdown",
      "metadata": {
        "id": "A31OYSogBED6"
      },
      "source": [
        "<b>Task 2:</b> Implement M-step for GMM using template below."
      ]
    },
    {
      "cell_type": "code",
      "metadata": {
        "id": "mhOr5I1bBED7"
      },
      "source": [
        "def M_step(X, gamma):\n",
        "    \"\"\"\n",
        "    Performs M-step on GMM model\n",
        "    Each input is numpy array:\n",
        "    X: (N x d), data points\n",
        "    gamma: (N x C), distribution q(T)  \n",
        "    \n",
        "    Returns:\n",
        "    pi: (C)\n",
        "    mu: (C x d)\n",
        "    sigma: (C x d x d)\n",
        "    \"\"\"\n",
        "    N = X.shape[0] # number of objects\n",
        "    C = gamma.shape[1] # number of clusters\n",
        "    d = X.shape[1] # dimension of each object\n",
        "    mu = np.zeros((C,d))\n",
        "    sigma = np.zeros((C,d,d))\n",
        "    ### YOUR CODE HERE\n",
        "    for ci in range(C):\n",
        "      gamma_ci = gamma[:,ci]\n",
        "      mu[ci,:] = (gamma_ci[:,np.newaxis]*X).sum(axis = 0)/gamma_ci.sum()\n",
        "      sigmas_tmp = np.zeros((N,d,d))\n",
        "      for k in range(N):\n",
        "        sigmas_tmp[k,:,:] = np.outer((X[k,:]-mu[ci,:]),(X[k,:]-mu[ci,:]))\n",
        "      sigma[ci,:,:] = (sigmas_tmp * gamma_ci[:,np.newaxis,np.newaxis]).sum(axis = 0)/gamma_ci.sum()   \n",
        "    pi = np.sum(gamma,axis = 0)/N\n",
        "    return pi, mu, sigma"
      ],
      "execution_count": 9,
      "outputs": []
    },
    {
      "cell_type": "code",
      "metadata": {
        "id": "6i5cv65SBED-",
        "colab": {
          "base_uri": "https://localhost:8080/"
        },
        "outputId": "82ad2a58-327d-45a8-cb56-2b12ff9208c7"
      },
      "source": [
        "gamma = E_step(X, pi0, mu0, sigma0)\n",
        "pi, mu, sigma = M_step(X, gamma)\n",
        "grader.submit_m_step(pi, mu, sigma)"
      ],
      "execution_count": 10,
      "outputs": [
        {
          "output_type": "stream",
          "name": "stdout",
          "text": [
            "Current answer for task Task 2 (M-step: mu) is: 2.899391882050384\n",
            "Current answer for task Task 2 (M-step: sigma) is: 5.977105216897526\n",
            "Current answer for task Task 2 (M-step: pi) is: 0.5507624459218776\n"
          ]
        }
      ]
    },
    {
      "cell_type": "markdown",
      "metadata": {
        "id": "svyzjt7XBEEC"
      },
      "source": [
        "### Loss function"
      ]
    },
    {
      "cell_type": "code",
      "metadata": {
        "id": "bh4JIgYUjsb3"
      },
      "source": [
        ""
      ],
      "execution_count": null,
      "outputs": []
    },
    {
      "cell_type": "markdown",
      "metadata": {
        "id": "qexOXBLUBEED"
      },
      "source": [
        "Finally, we need some function to track convergence. We will use variational lower bound $\\mathcal{L}$ for this purpose. We will stop our EM iterations when $\\mathcal{L}$ will saturate. Usually, you will need only about 10-20 iterations to converge. It is also useful to check that this function never decreases during training. If it does, you have a bug in your code.\n",
        "\n",
        "<b>Task 3:</b> Implement a function that will compute $\\mathcal{L}$ using template below.\n",
        "\n",
        "$$\\mathcal{L} = \\sum_{i=1}^{N} \\sum_{c=1}^{C} q(t_i =c) (\\log \\pi_c + \\log f_{\\!\\mathcal{N}}(x_i \\mid \\mu_c, \\Sigma_c)) - \\sum_{i=1}^{N} \\sum_{c=1}^{K} q(t_i =c) \\log q(t_i =c)$$"
      ]
    },
    {
      "cell_type": "code",
      "metadata": {
        "id": "B5tKCZe0BEEE"
      },
      "source": [
        "def compute_vlb(X, pi, mu, sigma, gamma):\n",
        "    \"\"\"\n",
        "    Each input is numpy array:\n",
        "    X: (N x d), data points\n",
        "    gamma: (N x C), distribution q(T)  \n",
        "    pi: (C)\n",
        "    mu: (C x d)\n",
        "    sigma: (C x d x d)\n",
        "    \n",
        "    Returns value of variational lower bound\n",
        "    \"\"\"\n",
        "    from scipy.stats import multivariate_normal\n",
        "    N = X.shape[0] # number of objects\n",
        "    C = gamma.shape[1] # number of clusters\n",
        "    d = X.shape[1] # dimension of each object\n",
        "\n",
        "    ### YOUR CODE HERE\n",
        "    p1 = 0\n",
        "    for i in range(N):\n",
        "      xi = X[i,:]\n",
        "      for ci in range(C):\n",
        "        p1 += gamma[i,ci]*(np.log(pi[ci])+np.log(10**-10+multivariate_normal.pdf(xi, mean=mu[ci,:], cov=sigma[ci,:,:])))\n",
        "\n",
        "    p2 = 0\n",
        "    for i in range(N):\n",
        "      for ci in range(C):\n",
        "        p2 += gamma[i,ci]*(np.log(gamma[i,ci]))\n",
        "    print(p1)\n",
        "    print(p2)\n",
        "    loss = p1 - p2\n",
        "    return loss"
      ],
      "execution_count": 37,
      "outputs": []
    },
    {
      "cell_type": "code",
      "metadata": {
        "id": "xNva3XRTBEEI",
        "colab": {
          "base_uri": "https://localhost:8080/"
        },
        "outputId": "bc4f4add-de6e-4168-973f-a879abe28f74"
      },
      "source": [
        "pi, mu, sigma = pi0, mu0, sigma0\n",
        "gamma = E_step(X, pi, mu, sigma)\n",
        "pi, mu, sigma = M_step(X, gamma)\n",
        "loss = compute_vlb(X, pi, mu, sigma, gamma)\n",
        "grader.submit_VLB(loss)"
      ],
      "execution_count": 38,
      "outputs": [
        {
          "output_type": "stream",
          "name": "stdout",
          "text": [
            "-1268.8839781121906\n",
            "-54.91071222596833\n",
            "Current answer for task Task 3 (VLB) is: -1213.9732658862222\n"
          ]
        }
      ]
    },
    {
      "cell_type": "markdown",
      "metadata": {
        "id": "I5p8XC-eBEEM"
      },
      "source": [
        "### Bringing it all together"
      ]
    },
    {
      "cell_type": "markdown",
      "metadata": {
        "id": "cQsdsNVCBEEU"
      },
      "source": [
        "Now that we have E step, M step and VLB, we can implement the training loop. We will initialize values of $\\pi$, $\\mu$ and $\\Sigma$ to some random numbers, train until $\\mathcal{L}$ stops changing, and return the resulting points. We also know that the EM algorithm converges to local optima. To find a better local optima, we will restart the algorithm multiple times from different (random) starting positions. Each training trial should stop either when maximum number of iterations is reached or when relative improvement is smaller than given tolerance ($|\\frac{\\mathcal{L}_i-\\mathcal{L}_{i-1}}{\\mathcal{L}_{i-1}}| \\le \\text{rtol}$).\n",
        "\n",
        "Remember, that initial (random) values of $\\pi$ that you generate must be non-negative and sum up to 1. Also, $\\Sigma$ matrices must be symmetric and positive semi-definite. If you don't know how to generate those matrices, you can use $\\Sigma=I$ as initialization.\n",
        "\n",
        "You will also sometimes get numerical errors because of component collapsing. The easiest way to deal with this problems is to restart the procedure.\n",
        "\n",
        "<b>Task 4:</b> Implement training procedure"
      ]
    },
    {
      "cell_type": "code",
      "metadata": {
        "id": "Q1AAcyl0BEEW"
      },
      "source": [
        "def train_EM(X, C, rtol=1e-3, max_iter=100, restarts=10):\n",
        "    '''\n",
        "    Starts with random initialization *restarts* times\n",
        "    Runs optimization until saturation with *rtol* reached\n",
        "    or *max_iter* iterations were made.\n",
        "    \n",
        "    X: (N, d), data points\n",
        "    C: int, number of clusters\n",
        "    '''\n",
        "    N = X.shape[0] # number of objects\n",
        "    d = X.shape[1] # dimension of each object\n",
        "    best_loss = None\n",
        "    best_pi = None\n",
        "    best_mu = None\n",
        "    best_sigma = None\n",
        "    losses = np.zeros((restarts))\n",
        "    pis = np.zeros((restarts,C))\n",
        "    mus = np.zeros((restarts,C,d))\n",
        "    sigmas = np.zeros((restarts,C,d,d))\n",
        "    gammas = np.zeros((restarts,N,C))\n",
        "\n",
        "    for r in range(restarts):\n",
        "      try:\n",
        "        sigma = np.zeros((C,d,d))\n",
        "        pi = np.zeros((C))\n",
        "        mu = np.zeros((C,d))\n",
        "        for ci in range(C):\n",
        "          sigma[ci,:,:] = np.eye(d)\n",
        "          pi[ci] = 1/C\n",
        "          mu[ci,:] = X[np.random.choice(N,1).flatten(),:]\n",
        "        gamma = E_step(X, pi, mu, sigma)\n",
        "        pi, mu, sigma = M_step(X, gamma)\n",
        "        loss = compute_vlb(X, pi, mu, sigma, gamma)\n",
        "        last_loss = loss\n",
        "        for iter in range(max_iter):\n",
        "          gamma = E_step(X, pi, mu, sigma)\n",
        "          pi, mu, sigma = M_step(X, gamma)\n",
        "          loss = compute_vlb(X, pi, mu, sigma, gamma)\n",
        "          if (np.abs((loss-last_loss)/last_loss)<=rtol):\n",
        "            break\n",
        "          last_loss = loss \n",
        "        losses[r] = loss\n",
        "        pis[r,:] = pi\n",
        "        mus[r,:,:] = mu\n",
        "        sigmas[r,:,:,:] = sigma\n",
        "        gammas[r,:,:] = gamma\n",
        "      except np.linalg.LinAlgError:\n",
        "        print(\"Singular matrix: components collapsed\")\n",
        "        pass\n",
        "    best_loss = np.min(losses)\n",
        "    best_ind = np.argmin(losses)\n",
        "    best_pi = pis[best_ind,:]\n",
        "    best_mu = mus[best_ind,:,:]\n",
        "    best_sigma = sigmas[best_ind,:,:,:]\n",
        "    return best_loss, best_pi, best_mu, best_sigma"
      ],
      "execution_count": 39,
      "outputs": []
    },
    {
      "cell_type": "code",
      "metadata": {
        "id": "0f8A5sbmBEEZ",
        "colab": {
          "base_uri": "https://localhost:8080/"
        },
        "outputId": "0504d81f-088a-4cb3-8f72-9c699e3832fb"
      },
      "source": [
        "best_loss, best_pi, best_mu, best_sigma = train_EM(X, 3)\n",
        "grader.submit_EM(best_loss)"
      ],
      "execution_count": 40,
      "outputs": [
        {
          "output_type": "stream",
          "name": "stdout",
          "text": [
            "-1132.2092816809381\n",
            "-24.322642015969244\n",
            "-1099.5824001885555\n",
            "-19.336228113263466\n",
            "-1085.5596251904165\n",
            "-14.235473572888427\n",
            "-1082.1018393102668\n",
            "-13.504012051975861\n",
            "-1079.373782921831\n",
            "-13.07928033368408\n",
            "-1076.6702141192145\n",
            "-12.13495792407806\n",
            "-1075.590560168246\n",
            "-11.59780252818751\n",
            "-1306.3141946041674\n",
            "-113.1557149335307\n",
            "-1288.643269533881\n",
            "-122.08288416157107\n",
            "-1265.5773976907406\n",
            "-122.24447660115449\n",
            "-1235.4876056220155\n",
            "-115.0475160333759\n",
            "-1229.1330589057036\n",
            "-112.58685400528313\n",
            "-1223.8711407761095\n",
            "-109.87866332061371\n",
            "-1218.2708503590775\n",
            "-106.69595191180301\n",
            "-1212.4162114218\n",
            "-103.20468837340024\n",
            "-1206.2639004086934\n",
            "-99.41283077322448\n",
            "-1199.6289328104563\n",
            "-95.23084646461015\n",
            "-1192.1361949423872\n",
            "-90.47977426222242\n",
            "-1182.974952431008\n",
            "-84.79463147316909\n",
            "-1170.7829149417976\n",
            "-77.52402559577752\n",
            "-1154.679686521044\n",
            "-68.09230334059545\n",
            "-1136.2004211764229\n",
            "-56.69767656339468\n",
            "-1120.6144513208415\n",
            "-46.005442762243256\n",
            "-1108.4861127621305\n",
            "-37.053105340286876\n",
            "-1098.2965635263336\n",
            "-29.37196574871833\n",
            "-1089.8411229201654\n",
            "-22.976436297428965\n",
            "-1083.5000649949113\n",
            "-18.160698047699192\n",
            "-1079.486220983129\n",
            "-15.052627380120002\n",
            "-1230.8228603047562\n",
            "-47.56498691637017\n",
            "-1235.7043426951009\n",
            "-63.094393955018454\n",
            "-1233.3602168692382\n",
            "-63.69348057689545\n",
            "-1228.9705131831436\n",
            "-62.12084278695934\n",
            "-1223.6874817741268\n",
            "-59.90647710640917\n",
            "-1218.7157334189424\n",
            "-57.591936744606265\n",
            "-1214.9628647821867\n",
            "-55.476802678252234\n",
            "-1212.163006472239\n",
            "-53.544264108322054\n",
            "-1274.2005666666366\n",
            "-91.70367983417053\n",
            "-1273.197742300255\n",
            "-96.64656764338147\n",
            "-1264.0250608036067\n",
            "-93.57420162578903\n",
            "-1253.3221803647368\n",
            "-88.74658116621805\n",
            "-1246.0830453151702\n",
            "-84.53887102869624\n",
            "-1242.031951246693\n",
            "-81.58688220471822\n",
            "-1321.9440697456625\n",
            "-146.59700105267206\n",
            "-1308.6810244647797\n",
            "-149.88719147656795\n",
            "-1299.0691526123237\n",
            "-144.67518657353367\n",
            "-1288.2762825941102\n",
            "-137.52168458948142\n",
            "-1271.199985252491\n",
            "-127.14611072904994\n",
            "-1243.070325427014\n",
            "-111.52102358554332\n",
            "-1213.3318713198078\n",
            "-94.39606486548978\n",
            "-1194.3545924541825\n",
            "-82.05686365532225\n",
            "-1181.5129227111615\n",
            "-73.3101438968603\n",
            "-1169.7383208372762\n",
            "-65.2064812314516\n",
            "-1157.1757083730768\n",
            "-56.3352027898191\n",
            "-1144.0186610532273\n",
            "-46.84083477588627\n",
            "-1130.8912661872623\n",
            "-37.52772639691357\n",
            "-1117.3257647778805\n",
            "-28.768360288040476\n",
            "-1102.7654973036329\n",
            "-21.137381485154354\n",
            "-1088.763428658999\n",
            "-16.101518045033735\n",
            "-1077.7501637187006\n",
            "-13.165584539103115\n",
            "-1076.4325415847054\n",
            "-12.523060192780019\n",
            "-1122.3442991695179\n",
            "-23.700657319127846\n",
            "-1109.7209403791471\n",
            "-28.58156564770951\n",
            "-1095.512389974144\n",
            "-22.992814820203492\n",
            "-1086.5267452774135\n",
            "-18.77540878045253\n",
            "-1082.027535818443\n",
            "-16.154302721737206\n",
            "-1079.1748831542566\n",
            "-14.290274978117129\n",
            "-1389.4111811396438\n",
            "-179.50688962757047\n",
            "-1380.8343933947579\n",
            "-196.66414217113078\n",
            "-1368.1735263847866\n",
            "-194.39342850159295\n",
            "-1354.9176304367231\n",
            "-187.39113910366473\n",
            "-1343.1224701767962\n",
            "-179.53765079317387\n",
            "-1332.7914662775688\n",
            "-171.94649297271621\n",
            "-1323.430659596191\n",
            "-164.71730149245397\n",
            "-1314.6565913870954\n",
            "-157.79268039992795\n",
            "-1306.2467744059593\n",
            "-151.14750719833057\n",
            "-1298.2029339101323\n",
            "-144.8754706747841\n",
            "-1290.7621600873724\n",
            "-139.21305383214178\n",
            "-1284.1082042786625\n",
            "-134.32417657375967\n",
            "-1278.1215271122735\n",
            "-130.05036934939525\n",
            "-1272.582282061108\n",
            "-126.08132094835713\n",
            "-1266.9588602135336\n",
            "-121.95904051452081\n",
            "-1260.6305978053988\n",
            "-117.1789135541284\n",
            "-1253.5256923125346\n",
            "-111.61442557867022\n",
            "-1246.2162191569207\n",
            "-105.65533800548067\n",
            "-1239.5082157325164\n",
            "-99.95686338159213\n",
            "-1408.0980112958698\n",
            "-196.10134529972177\n",
            "-1374.4286696770905\n",
            "-199.4169755517452\n",
            "-1349.8692421268456\n",
            "-190.87848754507277\n",
            "-1331.5471938748237\n",
            "-182.73813926722903\n",
            "-1315.7002431854269\n",
            "-175.14430275613375\n",
            "-1299.3411605646052\n",
            "-166.1245581974482\n",
            "-1281.6567100728255\n",
            "-155.15348148884033\n",
            "-1263.2378697875445\n",
            "-143.04236866618552\n",
            "-1244.8182289770546\n",
            "-130.71777675822764\n",
            "-1225.9212662216905\n",
            "-118.17015596535569\n",
            "-1204.8298531912274\n",
            "-104.4740605388869\n",
            "-1181.5438082838848\n",
            "-89.44639182106114\n",
            "-1159.7264630665638\n",
            "-74.96931200735685\n",
            "-1143.06698407897\n",
            "-63.1727347453145\n",
            "-1129.938154315087\n",
            "-53.40825451794871\n",
            "-1118.3980979936086\n",
            "-44.67803473355348\n",
            "-1107.843354114143\n",
            "-36.659469835580715\n",
            "-1098.3404337031309\n",
            "-29.44194946409215\n",
            "-1090.317838404318\n",
            "-23.348725578275495\n",
            "-1084.1413099256902\n",
            "-18.64821806247045\n",
            "-1079.9716689140928\n",
            "-15.433951261572412\n",
            "-1364.039648777205\n",
            "-178.7272251202582\n",
            "-1306.0649770348518\n",
            "-154.28826390057387\n",
            "-1267.0646878736443\n",
            "-129.4477310817484\n",
            "-1234.9191120139776\n",
            "-109.20334617939591\n",
            "-1204.7549656955678\n",
            "-89.96372328232692\n",
            "-1181.6943030771217\n",
            "-73.87162998710517\n",
            "-1164.481172948319\n",
            "-61.29351191352164\n",
            "-1149.8693399743227\n",
            "-50.63706417202487\n",
            "-1135.9743732196496\n",
            "-40.74645593581038\n",
            "-1121.7352958754832\n",
            "-31.315614606046793\n",
            "-1106.1972985711384\n",
            "-22.73044580401807\n",
            "-1090.7187316354791\n",
            "-16.705778756017917\n",
            "-1078.180426158864\n",
            "-13.34587925161608\n",
            "-1076.5223177932885\n",
            "-12.599643109393991\n",
            "-1240.4210039239608\n",
            "-80.41209736942925\n",
            "-1227.2803918490354\n",
            "-97.00482725202956\n",
            "-1209.5135097308473\n",
            "-89.37871817920559\n",
            "-1193.0923672754311\n",
            "-79.71220982651218\n",
            "-1178.0780187904388\n",
            "-70.3458296686473\n",
            "-1164.2843723198685\n",
            "-61.46166607091721\n",
            "-1151.740885649732\n",
            "-53.00659317342708\n",
            "-1140.46611008684\n",
            "-45.08832975343004\n",
            "-1129.872722200407\n",
            "-37.65833820627575\n",
            "-1118.9786051698443\n",
            "-30.521818418747518\n",
            "-1107.7650766943475\n",
            "-24.084578509024936\n",
            "-1097.88027076193\n",
            "-19.50944535314298\n",
            "-1086.749818025593\n",
            "-15.886385512065122\n",
            "-1077.9101362790327\n",
            "-13.29064933071888\n",
            "-1076.553681008373\n",
            "-12.56372527108524\n",
            "Current answer for task Task 4 (EM) is: -1160.4450690419749\n"
          ]
        }
      ]
    },
    {
      "cell_type": "markdown",
      "metadata": {
        "id": "tYd6tPHKBEEd"
      },
      "source": [
        "If you implemented all the steps correctly, your algorithm should converge in about 20 iterations. Let's plot the clusters to see it. We will assign a cluster label as the most probable cluster index. This can be found using a matrix $\\gamma$ computed on last E-step. "
      ]
    },
    {
      "cell_type": "code",
      "metadata": {
        "id": "mK_M6QLnBEEe",
        "colab": {
          "base_uri": "https://localhost:8080/",
          "height": 265
        },
        "outputId": "9d7559f9-5122-4d36-fd7e-b225a1529393"
      },
      "source": [
        "gamma = E_step(X, best_pi, best_mu, best_sigma)\n",
        "labels = gamma.argmax(axis=1)\n",
        "colors = np.array([(31, 119, 180), (255, 127, 14), (44, 160, 44)]) / 255.\n",
        "plt.scatter(X[:, 0], X[:, 1], c=colors[labels], s=30)\n",
        "plt.axis('equal')\n",
        "plt.show()"
      ],
      "execution_count": 41,
      "outputs": [
        {
          "output_type": "display_data",
          "data": {
            "image/png": "[encoded data removed]",
            "text/plain": [
              "<Figure size 432x288 with 1 Axes>"
            ]
          },
          "metadata": {
            "needs_background": "light"
          }
        }
      ]
    },
    {
      "cell_type": "markdown",
      "metadata": {
        "id": "h4lnjrc7BEEl"
      },
      "source": [
        "# Authorization & Submission\n",
        "To submit assignment parts to Cousera platform, please, enter your e-mail and token into variables below. You can generate a token on this programming assignment's page. <b>Note:</b> The token expires 30 minutes after generation."
      ]
    },
    {
      "cell_type": "code",
      "metadata": {
        "id": "5uQRl29_BEEl",
        "colab": {
          "base_uri": "https://localhost:8080/"
        },
        "outputId": "96deed26-c806-437c-e002-ddcf7dfe59e7"
      },
      "source": [
        "STUDENT_EMAIL = \"cyu7@caltech.edu\"\n",
        "STUDENT_TOKEN = \"xsnW7lCdNujSSTII\"\n",
        "grader.status()"
      ],
      "execution_count": 42,
      "outputs": [
        {
          "output_type": "stream",
          "name": "stdout",
          "text": [
            "You want to submit these numbers:\n",
            "Task Task 1 (E-step): 0.5337178741081263\n",
            "Task Task 2 (M-step: mu): 2.899391882050384\n",
            "Task Task 2 (M-step: sigma): 5.977105216897526\n",
            "Task Task 2 (M-step: pi): 0.5507624459218776\n",
            "Task Task 3 (VLB): -1213.9732658862222\n",
            "Task Task 4 (EM): -1160.4450690419749\n"
          ]
        }
      ]
    },
    {
      "cell_type": "markdown",
      "metadata": {
        "id": "sNCsqNOiBEEn"
      },
      "source": [
        "If you want to submit these answers, run cell below"
      ]
    },
    {
      "cell_type": "code",
      "metadata": {
        "id": "3sc9imWNBEEo",
        "colab": {
          "base_uri": "https://localhost:8080/"
        },
        "outputId": "a207dafd-ba4b-4b8d-d630-78643d07f5fa"
      },
      "source": [
        "grader.submit(STUDENT_EMAIL, STUDENT_TOKEN)"
      ],
      "execution_count": 43,
      "outputs": [
        {
          "output_type": "stream",
          "name": "stdout",
          "text": [
            "Submitted to Coursera platform. See results on assignment page!\n"
          ]
        }
      ]
    },
    {
      "cell_type": "code",
      "metadata": {
        "id": "7jknEO6ystjy"
      },
      "source": [
        ""
      ],
      "execution_count": null,
      "outputs": []
    }
  ]
}